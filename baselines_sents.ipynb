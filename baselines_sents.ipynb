{
 "cells": [
  {
   "cell_type": "markdown",
   "metadata": {},
   "source": [
    "#### Some imports and datasets loading"
   ]
  },
  {
   "cell_type": "code",
   "execution_count": 23,
   "metadata": {},
   "outputs": [],
   "source": [
    "import numpy as np\n",
    "import pickle\n",
    "from utils import utils_vectorize as uv\n",
    "\n",
    "# Loading datasets\n",
    "with open('datasets/msrpar_txt.pkl', 'rb') as f:    \n",
    "    par_txt_pairs, par_scores = pickle.load(f)\n",
    "with open('datasets/msrvid_txt.pkl', 'rb') as f:    \n",
    "    vid_txt_pairs, vid_scores = pickle.load(f)\n",
    "with open('datasets/msranswer_txt.pkl', 'rb') as f:    \n",
    "    answer_txt_pairs, answer_scores = pickle.load(f)\n",
    "\n",
    "# DEF2DEF dataset flavors\n",
    "with open('datasets/def2def_txt.pkl', 'rb') as f: \n",
    "    def2def_txt_pairs, def2def_scores = pickle.load(f)\n",
    "with open('datasets/def2def_adjusted_txt.pkl', 'rb') as f: \n",
    "    def2def_adj_txt_pairs, def2def_adj_scores = pickle.load(f)\n",
    "with open('datasets/def2def250_adjusted_txt.pkl', 'rb') as f: \n",
    "    def2def250_txt_pairs, def2def250_scores = pickle.load(f)"
   ]
  },
  {
   "cell_type": "markdown",
   "metadata": {},
   "source": [
    "#### Functions"
   ]
  },
  {
   "cell_type": "code",
   "execution_count": 24,
   "metadata": {},
   "outputs": [],
   "source": [
    "# Similarity functions between two sentences\n",
    "# Combinations: composition = (sum | ICDS); sim = (cos | ICM | dot prod | euclid)\n",
    "def txt_pair_sim(txt_pair, stop_words=True, punct_marks=False, embed_model='w2v', mu='ratio'):  \n",
    "    v_sent0 = uv.icds_vectorize(txt_pair[0], stop_words=stop_words, punct_marks=punct_marks, embed_model=embed_model, mu=mu)\n",
    "    v_sent1 = uv.icds_vectorize(txt_pair[1], stop_words=stop_words, punct_marks=punct_marks, embed_model=embed_model, mu=mu)   \n",
    "    sents_sim = max(0, uv.cos_sim(v_sent0, v_sent1))        \n",
    "    #sents_sim = uv.icm_sim(v_sent0, v_sent1, beta=1.1)     # ICM sim\n",
    "    #sents_sim = v_sent0 @ v_sent1                          # dot sim\n",
    "    #sents_sim = np.linalg.norm(v_sent0 - v_sent1)          # eucl sim\n",
    "    return(sents_sim)\n",
    "\n",
    "# Correlation with trues in a dataset of pairs\n",
    "def txt_sents_sim(ds_txt_pairs, true_scores, stop_words=True, punct_marks=False, embed_model='w2v', mu='ratio'):\n",
    "    sims = []\n",
    "    for pair in ds_txt_pairs:\n",
    "        sims.append(txt_pair_sim(pair, stop_words=stop_words, punct_marks=punct_marks, embed_model=embed_model, mu=mu))\n",
    "    correlation = np.corrcoef(sims, np.array(true_scores))[0][1]\n",
    "    return(correlation, np.array(sims))"
   ]
  },
  {
   "cell_type": "markdown",
   "metadata": {},
   "source": [
    "#### Individual datasets baseline by sentences"
   ]
  },
  {
   "cell_type": "code",
   "execution_count": 25,
   "metadata": {},
   "outputs": [
    {
     "name": "stdout",
     "output_type": "stream",
     "text": [
      "Corr. for MSRpar: 0.4197711326094004 \n",
      "\n",
      "Corr. for MSRvid: 0.7790563368288715 \n",
      "\n",
      "Corr. for MSRanswer: 0.45504263740487616 \n",
      "\n",
      "Corr. for def2def: 0.4851967199582447 \n",
      "\n",
      "Corr. for def2def_adj: 0.5505453897281186 \n",
      "\n",
      "Corr. for def2def250: 0.5950603614061716 \n",
      "\n",
      "\tCorrelations mean: 0.5474454296559471\n"
     ]
    }
   ],
   "source": [
    "# Test data\n",
    "names = ['MSRpar', 'MSRvid', 'MSRanswer', 'def2def', 'def2def_adj', 'def2def250']\n",
    "sets = [par_txt_pairs, vid_txt_pairs, answer_txt_pairs, def2def_txt_pairs, def2def_adj_txt_pairs, def2def250_txt_pairs]\n",
    "true_scores = [par_scores, vid_scores, answer_scores, def2def_scores, def2def_adj_scores, def2def250_scores]\n",
    "correlations = []\n",
    "\n",
    "# Test combinations: embedding = ('w2v', 'glove'); mu = (0, 1, 'ratio')\n",
    "for idx, elem in enumerate(sets):\n",
    "    scores = true_scores[idx]\n",
    "    corr, sims = txt_sents_sim(elem, scores, stop_words=True, \n",
    "                               punct_marks=False, embed_model='w2v', mu='ratio')   \n",
    "    correlations.append(corr)\n",
    "    #print('True scores min, max, mean and std:',np.min(scores), np.max(scores), np.mean(scores), np.std(scores))\n",
    "    #print('Sim scores min, max, mean and std:', np.min(sims*5), np.max(sims*5), np.mean(sims*5), np.std(sims*5))\n",
    "    print('Corr. for', names[idx]+':', corr, '\\n')\n",
    "print('\\tCorrelations mean:', np.mean(np.array(correlations)))\n",
    "\n",
    "#paper_refs = [0.42, 0.82, 0.52, 0.53] # -> mean = .57 | W2V + BEST STR + F.INF + COS\n",
    "# This file: ok 20250615"
   ]
  },
  {
   "cell_type": "markdown",
   "metadata": {},
   "source": [
    "#### Unified dataset baseline by sentences with original DEF2DEF"
   ]
  },
  {
   "cell_type": "code",
   "execution_count": 26,
   "metadata": {},
   "outputs": [
    {
     "name": "stdout",
     "output_type": "stream",
     "text": [
      "Unified dataset size: 3747\n"
     ]
    }
   ],
   "source": [
    "# New unified datasets: 80% of samples and 83% of triplets are from DEF2DEF if original dataset \n",
    "samples = par_txt_pairs + vid_txt_pairs + answer_txt_pairs + def2def_txt_pairs\n",
    "scores = par_scores + vid_scores + answer_scores + [score/10 for score in def2def_scores]   # def2def scores 0-50 -> 0-5\n",
    "print('Unified dataset size:', len(samples))"
   ]
  },
  {
   "cell_type": "code",
   "execution_count": 28,
   "metadata": {},
   "outputs": [
    {
     "name": "stdout",
     "output_type": "stream",
     "text": [
      "True scores min, max, mean and std: 0.0 5.0 2.5230496397117688 1.2987121599071274\n",
      "Sim scores min, max, mean and std: 0.0 5.000000000000001 1.9932547732950059 1.1623045610888645\n",
      "Correlation: 0.377704549984576\n"
     ]
    }
   ],
   "source": [
    "# Main: presents correlation and additional info\n",
    "corr, sims = txt_sents_sim(samples, scores, stop_words=True, punct_marks=True, embed_model='w2v', mu='ratio')   \n",
    "\n",
    "print('True scores min, max, mean and std:',np.min(scores), np.max(scores), np.mean(scores), np.std(scores))\n",
    "print('Sim scores min, max, mean and std:', np.min(sims*5), np.max(sims*5), np.mean(sims*5), np.std(sims*5))\n",
    "print('Correlation:', corr)\n",
    "\n",
    "# This file: ok 20250615\n",
    "# All datasets correlations\n",
    "#   0.38 "
   ]
  },
  {
   "cell_type": "markdown",
   "metadata": {},
   "source": [
    "#### Unified dataset baseline by sentences with adjusted DEF2DEF"
   ]
  },
  {
   "cell_type": "code",
   "execution_count": 29,
   "metadata": {},
   "outputs": [
    {
     "name": "stdout",
     "output_type": "stream",
     "text": [
      "Unified dataset size: 3044\n"
     ]
    }
   ],
   "source": [
    "# New unified datasets: 80% of samples and 83% of triplets are from DEF2DEF if original dataset \n",
    "samples = par_txt_pairs + vid_txt_pairs + answer_txt_pairs + def2def_adj_txt_pairs\n",
    "scores = par_scores + vid_scores + answer_scores + [score/10 for score in def2def_adj_scores]   # def2def scores 0-50 -> 0-5\n",
    "print('Unified dataset size:', len(samples))"
   ]
  },
  {
   "cell_type": "code",
   "execution_count": 30,
   "metadata": {},
   "outputs": [
    {
     "name": "stdout",
     "output_type": "stream",
     "text": [
      "True scores min, max, mean and std: 0.0 5.0 2.4978209592641263 1.3166309708785562\n",
      "Sim scores min, max, mean and std: 0.0 5.000000000000001 2.138213165021107 1.199493150939687\n",
      "Correlation: 0.4168268607477843\n"
     ]
    }
   ],
   "source": [
    "corr, sims = txt_sents_sim(samples, scores, stop_words=True, punct_marks=True, embed_model='w2v', mu='ratio')   \n",
    "\n",
    "print('True scores min, max, mean and std:',np.min(scores), np.max(scores), np.mean(scores), np.std(scores))\n",
    "print('Sim scores min, max, mean and std:', np.min(sims*5), np.max(sims*5), np.mean(sims*5), np.std(sims*5))\n",
    "print('Correlation:', corr)"
   ]
  },
  {
   "cell_type": "markdown",
   "metadata": {},
   "source": [
    "#### Unified dataset baseline by sentences with adjusted DEF2DEF_250"
   ]
  },
  {
   "cell_type": "code",
   "execution_count": 31,
   "metadata": {},
   "outputs": [
    {
     "name": "stdout",
     "output_type": "stream",
     "text": [
      "Unified dataset size: 1004\n"
     ]
    }
   ],
   "source": [
    "samples = par_txt_pairs + vid_txt_pairs + answer_txt_pairs + def2def250_txt_pairs\n",
    "scores = par_scores + vid_scores + answer_scores + [score/10 for score in def2def250_scores]   # def2def scores 0-50 -> 0-5\n",
    "print('Unified dataset size:', len(samples))"
   ]
  },
  {
   "cell_type": "code",
   "execution_count": 33,
   "metadata": {},
   "outputs": [
    {
     "name": "stdout",
     "output_type": "stream",
     "text": [
      "True scores min, max, mean and std: 0.0 5.0 2.550066733067729 1.4702609203245356\n",
      "Sim scores min, max, mean and std: 0.03960421153787738 5.000000000000001 3.0525938375508277 1.3088540103541193\n",
      "Correlation: 0.4125516395567429\n"
     ]
    }
   ],
   "source": [
    "corr, sims = txt_sents_sim(samples, scores, stop_words=True, punct_marks=True, embed_model='w2v', mu='ratio')   \n",
    "\n",
    "print('True scores min, max, mean and std:',np.min(scores), np.max(scores), np.mean(scores), np.std(scores))\n",
    "print('Sim scores min, max, mean and std:', np.min(sims*5), np.max(sims*5), np.mean(sims*5), np.std(sims*5))\n",
    "print('Correlation:', corr)"
   ]
  },
  {
   "cell_type": "markdown",
   "metadata": {},
   "source": [
    "#### Unified correlations summary"
   ]
  },
  {
   "cell_type": "code",
   "execution_count": null,
   "metadata": {},
   "outputs": [],
   "source": [
    "# This code: ok 20250615\n",
    "\n",
    "# Individual baselines          sw=True\n",
    "\n",
    "# Corr. for MSRpar: 0.4197711326094004 \n",
    "# Corr. for MSRvid: 0.7790563368288715 \n",
    "# Corr. for MSRanswer: 0.45504263740487616 \n",
    "# Corr. for def2def: 0.4851967199582447 \n",
    "#       Mean four original datasets: 0.535  \n",
    "# Corr. for def2def_adj: 0.5505453897281186 \n",
    "# Corr. for def2def250: 0.5950603614061716 \n",
    "\n",
    "# Unified datasets              sw=True\n",
    "# With original DEF2DEF = 0.378     \n",
    "# With DEF2DEF adjusted = 0.417    \n",
    "# With DEF2DEF_250 adj. = 0.413    "
   ]
  }
 ],
 "metadata": {
  "kernelspec": {
   "display_name": "Python 3",
   "language": "python",
   "name": "python3"
  },
  "language_info": {
   "codemirror_mode": {
    "name": "ipython",
    "version": 3
   },
   "file_extension": ".py",
   "mimetype": "text/x-python",
   "name": "python",
   "nbconvert_exporter": "python",
   "pygments_lexer": "ipython3",
   "version": "3.11.8"
  }
 },
 "nbformat": 4,
 "nbformat_minor": 2
}
